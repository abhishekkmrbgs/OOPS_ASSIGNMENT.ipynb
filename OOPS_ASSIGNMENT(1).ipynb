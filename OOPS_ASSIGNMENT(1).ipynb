{
  "nbformat": 4,
  "nbformat_minor": 0,
  "metadata": {
    "colab": {
      "provenance": []
    },
    "kernelspec": {
      "name": "python3",
      "display_name": "Python 3"
    },
    "language_info": {
      "name": "python"
    }
  },
  "cells": [
    {
      "cell_type": "markdown",
      "source": [
        "1.  What are the five key concepts of Object-Oriented Programming (OOP)?\n",
        "\n",
        "\n",
        "\n",
        "    Here are the five key concepts of Object-Oriented Programming (OOP) :\n",
        "\n",
        "    a. Class:\n",
        "    A blueprint for creating objects.\n",
        "    \n",
        "    Think of it as a recipe or a plan that defines what an object should have (properties) and what it can do (methods).\n",
        "\n",
        "    b. Object:\n",
        "    An actual item created using a class.\n",
        "    \n",
        "    It’s like baking a cake using a recipe — the cake is the object, and the recipe is the class.\n",
        "\n",
        "    c. Encapsulation:\n",
        "    Keeping an object’s details (like its data) hidden from the outside world and only allowing access through specific methods.\n",
        "\n",
        "    It’s like controlling how people interact with a car (e.g., they can press the gas pedal, but they don’t see how the engine works).\n",
        "\n",
        "    d. Inheritance:\n",
        "    Allowing one class to use the properties and methods of another class.\n",
        "    \n",
        "    It’s like a child inheriting traits from their parents but still being unique.\n",
        "\n",
        "    e. Polymorphism:\n",
        "    Objects can take on different forms depending on the context.\n",
        "    \n",
        "    It’s like how a person can be a teacher at work but a parent at home — the same person, different roles."
      ],
      "metadata": {
        "id": "5tNJR12pFo37"
      }
    },
    {
      "cell_type": "markdown",
      "source": [
        " 2. Write a Python class for a `Car` with attributes for `make`, `model`, and `year`. Include a method to display\n",
        "the car's information.\n",
        "\n",
        "\n",
        "    "
      ],
      "metadata": {
        "id": "iwwVZ-zaG9L5"
      }
    },
    {
      "cell_type": "code",
      "source": [
        "class Car:\n",
        "    def __init__(self, make, model, year):\n",
        "        \"\"\"\n",
        "        Initialize the Car object with make, model, and year attributes.\n",
        "        \"\"\"\n",
        "        self.make = make\n",
        "        self.model = model\n",
        "        self.year = year\n",
        "\n",
        "    def display_info(self):\n",
        "        \"\"\"\n",
        "        Print the car's information.\n",
        "        \"\"\"\n",
        "        print(f\"Make: {self.make}\")\n",
        "        print(f\"Model: {self.model}\")\n",
        "        print(f\"Year: {self.year}\")\n",
        "\n",
        "\n",
        "# Instantiate a Car object\n",
        "car = Car(\"Toyota\", \"Corolla\", 2020)\n",
        "\n",
        "# Call the display_info method\n",
        "car.display_info()\n",
        "\n"
      ],
      "metadata": {
        "id": "DqT-J87FGa2C",
        "colab": {
          "base_uri": "https://localhost:8080/"
        },
        "outputId": "ae72b400-a75a-4169-c8fa-d31df50f2053"
      },
      "execution_count": null,
      "outputs": [
        {
          "output_type": "stream",
          "name": "stdout",
          "text": [
            "Make: Toyota\n",
            "Model: Corolla\n",
            "Year: 2020\n"
          ]
        }
      ]
    },
    {
      "cell_type": "markdown",
      "source": [
        "3. Explain the difference between instance methods and class methods. Provide an example of each.\n",
        "\n",
        "\n",
        "\n",
        "    n Python, instance methods and class methods differ in their behavior, scope, and how they are accessed. Here's a breakdown:\n",
        "Instance Methods\n",
        "\n",
        "    a. Belong to an instance of the class.\n",
        "\n",
        "    b. Can access and modify the attributes of the specific instance (self).\n",
        "\n",
        "    c. Are defined without any decorator or with the @property decorator for getters/setters.\n",
        "\n",
        "    d. Must be called on an object of the class."
      ],
      "metadata": {
        "id": "ov_UIme3Jg7f"
      }
    },
    {
      "cell_type": "code",
      "source": [
        "class MyClass:\n",
        "    def __init__(self, value):\n",
        "        self.value = value  # Instance attribute\n",
        "\n",
        "    def instance_method(self):  # Instance method\n",
        "        return f\"Instance value is {self.value}\"\n",
        "\n",
        "# Create an instance of MyClass\n",
        "obj = MyClass(42)\n",
        "print(obj.instance_method())  # Output: \"Instance value is 42\"\n"
      ],
      "metadata": {
        "colab": {
          "base_uri": "https://localhost:8080/"
        },
        "id": "w-ws3mIsI48q",
        "outputId": "b67e8724-f698-49cf-8e5a-442964dfec5b"
      },
      "execution_count": null,
      "outputs": [
        {
          "output_type": "stream",
          "name": "stdout",
          "text": [
            "Instance value is 42\n"
          ]
        }
      ]
    },
    {
      "cell_type": "markdown",
      "source": [
        "Class Methods\n",
        "\n",
        "    a. Belong to the class itself, not an instance.\n",
        "\n",
        "    b. Cannot directly access or modify instance-specific data, but can modify class-level data.\n",
        "\n",
        "    c. Are defined with the @classmethod decorator and take cls (reference to the class) as the first parameter.\n",
        "\n",
        "    d. Can be called on the class itself or an instance of the class."
      ],
      "metadata": {
        "id": "gwtK8CPWKW5d"
      }
    },
    {
      "cell_type": "code",
      "source": [
        "class MyClass:\n",
        "    class_attribute = \"I am a class attribute\"  # Class-level attribute\n",
        "\n",
        "    @classmethod\n",
        "    def class_method(cls):  # Class method\n",
        "        return f\"Class attribute is {cls.class_attribute}\"\n",
        "\n",
        "# Call the class method\n",
        "print(MyClass.class_method())  # Output: \"Class attribute is I am a class attribute\"\n",
        "\n",
        "# You can also call it from an instance\n",
        "obj = MyClass()\n",
        "print(obj.class_method())  # Output: \"Class attribute is I am a class attribute\"\n"
      ],
      "metadata": {
        "id": "MTNK_y3hKKpI",
        "colab": {
          "base_uri": "https://localhost:8080/"
        },
        "outputId": "1520f2c0-c197-421a-97f4-96b8e1543e20"
      },
      "execution_count": null,
      "outputs": [
        {
          "output_type": "stream",
          "name": "stdout",
          "text": [
            "Class attribute is I am a class attribute\n",
            "Class attribute is I am a class attribute\n"
          ]
        }
      ]
    },
    {
      "cell_type": "markdown",
      "source": [
        "4. How does Python implement method overloading? Give an example.\n",
        "\n",
        "\n",
        "    Python does not support method overloading in the traditional sense, as it does in languages like Java or C++.\n",
        "\n",
        "    In Python, you cannot define multiple methods with the same name but different parameter lists in the same class.\n",
        "    \n",
        "    If you try to do so, the latest definition will overwrite the earlier ones.\n",
        "\n",
        "    Instead, Python achieves method overloading functionality using techniques such as:\n",
        "\n",
        "    a. Default Arguments: Provide default values for parameters, making them optional.\n",
        "\n",
        "    b. Variable-length Arguments: Use *args and **kwargs to accept arbitrary positional and keyword arguments.\n",
        "\n",
        "    c.Type Checking: Use if-else logic to distinguish behavior based on argument types or counts.\n"
      ],
      "metadata": {
        "id": "aCtCvtWUKviS"
      }
    },
    {
      "cell_type": "code",
      "source": [
        "#Example: Using Default Arguments\n",
        "\n",
        "class Calculator:\n",
        "    def add(self, a, b=0):\n",
        "        return a + b\n",
        "\n",
        "calc = Calculator()\n",
        "print(calc.add(5))       # Output: 5 (single argument)\n",
        "print(calc.add(5, 3))    # Output: 8 (two arguments)\n"
      ],
      "metadata": {
        "colab": {
          "base_uri": "https://localhost:8080/"
        },
        "id": "sdf2QDuZKnfT",
        "outputId": "c98e0477-f612-406a-d65a-1fe982ca202d"
      },
      "execution_count": null,
      "outputs": [
        {
          "output_type": "stream",
          "name": "stdout",
          "text": [
            "5\n",
            "8\n"
          ]
        }
      ]
    },
    {
      "cell_type": "code",
      "source": [
        "#Example: Using *args for Overloading\n",
        "\n",
        "class Calculator:\n",
        "    def add(self, *args):\n",
        "        return sum(args)\n",
        "\n",
        "calc = Calculator()\n",
        "print(calc.add(5))            # Output: 5 (single argument)\n",
        "print(calc.add(5, 3))         # Output: 8 (two arguments)\n",
        "print(calc.add(1, 2, 3, 4))   # Output: 10 (multiple arguments)\n"
      ],
      "metadata": {
        "colab": {
          "base_uri": "https://localhost:8080/"
        },
        "id": "CSyDlxRSL39d",
        "outputId": "27904839-7027-4b4c-ac94-80a977860ce1"
      },
      "execution_count": null,
      "outputs": [
        {
          "output_type": "stream",
          "name": "stdout",
          "text": [
            "5\n",
            "8\n",
            "10\n"
          ]
        }
      ]
    },
    {
      "cell_type": "code",
      "source": [
        "#Example: Using Type Checking for Overloading Behavior\n",
        "\n",
        "class Calculator:\n",
        "    def add(self, a, b):\n",
        "        if isinstance(a, str) and isinstance(b, str):\n",
        "            return a + b  # Concatenate strings\n",
        "        elif isinstance(a, (int, float)) and isinstance(b, (int, float)):\n",
        "            return a + b  # Add numbers\n",
        "        else:\n",
        "            raise TypeError(\"Unsupported types\")\n",
        "\n",
        "calc = Calculator()\n",
        "print(calc.add(5, 3))           # Output: 8\n",
        "print(calc.add(\"Hello, \", \"World!\"))  # Output: \"Hello, World!\"\n"
      ],
      "metadata": {
        "colab": {
          "base_uri": "https://localhost:8080/"
        },
        "id": "utbzTJb5MAp7",
        "outputId": "29c81962-3bc7-436f-bb5a-97c8863ef2c6"
      },
      "execution_count": null,
      "outputs": [
        {
          "output_type": "stream",
          "name": "stdout",
          "text": [
            "8\n",
            "Hello, World!\n"
          ]
        }
      ]
    },
    {
      "cell_type": "markdown",
      "source": [
        "5. What are the three types of access modifiers in Python? How are they denoted?\n",
        "\n",
        "\n",
        "\n",
        "    In Python, there are three types of access modifiers to control the visibility of class members (attributes and methods).\n",
        "    \n",
        "    These are:\n",
        "\n",
        "1.Public\n",
        "\n",
        "    Definition: Members declared as public are accessible from\n",
        "    anywhere, both inside and outside the class.\n",
        "\n",
        "    Denoted by: No special prefix is used."
      ],
      "metadata": {
        "id": "ersqpmC0MRcb"
      }
    },
    {
      "cell_type": "code",
      "source": [
        "class Example:\n",
        "    def __init__(self):\n",
        "        self.public_attribute = \"I am public\"  # Public attribute\n",
        "\n",
        "    def public_method(self):  # Public method\n",
        "        return \"This is a public method\"\n",
        "\n",
        "# Create an object of the Example class\n",
        "example_obj = Example()\n",
        "\n",
        "# Access public attribute\n",
        "print(example_obj.public_attribute)  # Output: I am public\n",
        "\n",
        "# Call public method\n",
        "print(example_obj.public_method())  # Output: This is a public method\n"
      ],
      "metadata": {
        "colab": {
          "base_uri": "https://localhost:8080/"
        },
        "id": "w0Pu6pizM-gU",
        "outputId": "d65a013c-e216-4600-e93b-54703906373b"
      },
      "execution_count": null,
      "outputs": [
        {
          "output_type": "stream",
          "name": "stdout",
          "text": [
            "I am public\n",
            "This is a public method\n"
          ]
        }
      ]
    },
    {
      "cell_type": "markdown",
      "source": [
        "2.Protected\n",
        "\n",
        "    Definition: Members declared as protected are intended to be accessed only within the class and its subclasses.\n",
        "    \n",
        "    However, Python does not enforce strict access restrictions, so these members can still be accessed directly outside the class (by convention, they are treated as non-public).\n",
        "    \n",
        "    Denoted by: A single underscore prefix (_)."
      ],
      "metadata": {
        "id": "lwUUdsK_NaVP"
      }
    },
    {
      "cell_type": "code",
      "source": [
        "class Example:\n",
        "    def __init__(self):\n",
        "        self._protected_attribute = \"I am protected\"  # Protected attribute\n",
        "\n",
        "    def _protected_method(self):  # Protected method\n",
        "        return \"This is a protected method\"\n",
        "\n",
        "# Create an object of the Example class\n",
        "example_obj = Example()\n",
        "\n",
        "# Access protected attribute (possible, but not recommended)\n",
        "print(example_obj._protected_attribute)  # Output: I am protected\n",
        "\n",
        "# Call protected method (possible, but not recommended)\n",
        "print(example_obj._protected_method())  # Output: This is a protected method\n"
      ],
      "metadata": {
        "colab": {
          "base_uri": "https://localhost:8080/"
        },
        "id": "5gnF9YZTNOHB",
        "outputId": "6b2feb8a-0200-4f90-a9d1-049393294661"
      },
      "execution_count": null,
      "outputs": [
        {
          "output_type": "stream",
          "name": "stdout",
          "text": [
            "I am protected\n",
            "This is a protected method\n"
          ]
        }
      ]
    },
    {
      "cell_type": "markdown",
      "source": [
        "3.Private\n",
        "\n",
        "    Definition: Members declared as private are accessible only within the class where they are defined.\n",
        "    \n",
        "    They are name-mangled to make them less accessible outside the class.\n",
        "\n",
        "    Denoted by: A double underscore prefix (__)."
      ],
      "metadata": {
        "id": "m_gHVFLGNym3"
      }
    },
    {
      "cell_type": "code",
      "source": [
        "class Example:\n",
        "    def __init__(self):\n",
        "        self.__private_attribute = \"I am private\"  # Private attribute\n",
        "\n",
        "    def __private_method(self):  # Private method\n",
        "        return \"This is a private method\"\n",
        "\n",
        "    def get_private_attribute(self):  # Public method to access private attribute\n",
        "        return self.__private_attribute\n",
        "\n",
        "\n",
        "# Create an object of the Example class\n",
        "example_obj = Example()\n",
        "\n",
        "# Try accessing private attribute directly (this will cause an error)\n",
        "# print(example_obj.__private_attribute)  # AttributeError: 'Example' object has no attribute '__private_attribute'\n",
        "\n",
        "# Try calling the private method directly (this will cause an error)\n",
        "# print(example_obj.__private_method())  # AttributeError: 'Example' object has no attribute '__private_method'\n",
        "\n",
        "# Access private attribute using a public method\n",
        "print(example_obj.get_private_attribute())  # Output: I am private\n"
      ],
      "metadata": {
        "colab": {
          "base_uri": "https://localhost:8080/"
        },
        "id": "eGmfm5DcNsNd",
        "outputId": "38de909a-b7e4-4abd-90d2-e1c5e4bd61d1"
      },
      "execution_count": null,
      "outputs": [
        {
          "output_type": "stream",
          "name": "stdout",
          "text": [
            "I am private\n"
          ]
        }
      ]
    },
    {
      "cell_type": "markdown",
      "source": [
        "6. Describe the five types of inheritance in Python. Provide a simple example of multiple inheritance.\n",
        "\n",
        "\n",
        "\n",
        "    In Python, inheritance is a way to enable a new class to inherit the attributes and methods of an existing class.\n",
        "    \n",
        "    There are five primary types of inheritance:\n",
        "\n",
        "A.Single Inheritance\n",
        "\n",
        "    Single inheritance is the simplest form, where a subclass inherits from one parent class.\n"
      ],
      "metadata": {
        "id": "uTcDb7tbRG-o"
      }
    },
    {
      "cell_type": "code",
      "source": [
        "class Animal:\n",
        "    def speak(self):\n",
        "        print(\"Animal speaks\")\n",
        "\n",
        "class Dog(Animal):\n",
        "    def bark(self):\n",
        "        print(\"Dog barks\")\n",
        "\n",
        "dog = Dog()\n",
        "dog.speak()  # Inherited from Animal\n",
        "dog.bark()   # Defined in Dog\n"
      ],
      "metadata": {
        "colab": {
          "base_uri": "https://localhost:8080/"
        },
        "id": "onILjINYRi5-",
        "outputId": "370cbf0c-5add-4f77-e147-7d14f227252a"
      },
      "execution_count": null,
      "outputs": [
        {
          "output_type": "stream",
          "name": "stdout",
          "text": [
            "Animal speaks\n",
            "Dog barks\n"
          ]
        }
      ]
    },
    {
      "cell_type": "markdown",
      "source": [
        "B.  Multiple Inheritance\n",
        "\n",
        "\n",
        "\n",
        "    Multiple inheritance occurs when a class inherits from more than one base class.\n",
        "    \n",
        "    This allows the child class to access methods and attributes from multiple parents"
      ],
      "metadata": {
        "id": "Oq0Ea05vRvok"
      }
    },
    {
      "cell_type": "code",
      "source": [
        "class Animal:\n",
        "    def speak(self):\n",
        "        print(\"Animal speaks\")\n",
        "\n",
        "class Swimmer:\n",
        "    def swim(self):\n",
        "        print(\"Swimmer swims\")\n",
        "\n",
        "class Dolphin(Animal, Swimmer):\n",
        "    def jump(self):\n",
        "        print(\"Dolphin jumps\")\n",
        "\n",
        "dolphin = Dolphin()\n",
        "dolphin.speak()  # Inherited from Animal\n",
        "dolphin.swim()   # Inherited from Swimmer\n",
        "dolphin.jump()   # Defined in Dolphin\n"
      ],
      "metadata": {
        "colab": {
          "base_uri": "https://localhost:8080/"
        },
        "id": "JXmMNY0tR_hd",
        "outputId": "1b110be5-b68f-47f4-d385-d83fda8e9a6d"
      },
      "execution_count": null,
      "outputs": [
        {
          "output_type": "stream",
          "name": "stdout",
          "text": [
            "Animal speaks\n",
            "Swimmer swims\n",
            "Dolphin jumps\n"
          ]
        }
      ]
    },
    {
      "cell_type": "markdown",
      "source": [
        "C. Multilevel Inheritance\n",
        "\n",
        "    In multilevel inheritance, a class is derived from another derived class. The inheritance forms a chain."
      ],
      "metadata": {
        "id": "4lyEliDOSh0E"
      }
    },
    {
      "cell_type": "code",
      "source": [
        "class Animal:\n",
        "    def speak(self):\n",
        "        print(\"Animal speaks\")\n",
        "\n",
        "class Dog(Animal):\n",
        "    def bark(self):\n",
        "        print(\"Dog barks\")\n",
        "\n",
        "class Puppy(Dog):\n",
        "    def play(self):\n",
        "        print(\"Puppy plays\")\n",
        "\n",
        "puppy = Puppy()\n",
        "puppy.speak()  # Inherited from Animal\n",
        "puppy.bark()   # Inherited from Dog\n",
        "puppy.play()   # Defined in Puppy\n"
      ],
      "metadata": {
        "colab": {
          "base_uri": "https://localhost:8080/"
        },
        "id": "EMvjoJM5SlGw",
        "outputId": "4133d342-fa48-4a35-c6d3-3cefab3df6b7"
      },
      "execution_count": null,
      "outputs": [
        {
          "output_type": "stream",
          "name": "stdout",
          "text": [
            "Animal speaks\n",
            "Dog barks\n",
            "Puppy plays\n"
          ]
        }
      ]
    },
    {
      "cell_type": "markdown",
      "source": [
        "D. Hierarchical Inheritance\n",
        "\n",
        "\n",
        "\n",
        "    In hierarchical inheritance, multiple classes inherit from a single parent class."
      ],
      "metadata": {
        "id": "apWALyU8Suth"
      }
    },
    {
      "cell_type": "code",
      "source": [
        "class Animal:\n",
        "    def speak(self):\n",
        "        print(\"Animal speaks\")\n",
        "\n",
        "class Dog(Animal):\n",
        "    def bark(self):\n",
        "        print(\"Dog barks\")\n",
        "\n",
        "class Cat(Animal):\n",
        "    def meow(self):\n",
        "        print(\"Cat meows\")\n",
        "\n",
        "dog = Dog()\n",
        "dog.speak()  # Inherited from Animal\n",
        "dog.bark()   # Defined in Dog\n",
        "\n",
        "cat = Cat()\n",
        "cat.speak()  # Inherited from Animal\n",
        "cat.meow()   # Defined in Cat\n"
      ],
      "metadata": {
        "colab": {
          "base_uri": "https://localhost:8080/"
        },
        "id": "H4TZn-QGS0rK",
        "outputId": "470d58ef-87a7-4405-8b13-6076e06ce097"
      },
      "execution_count": null,
      "outputs": [
        {
          "output_type": "stream",
          "name": "stdout",
          "text": [
            "Animal speaks\n",
            "Dog barks\n",
            "Animal speaks\n",
            "Cat meows\n"
          ]
        }
      ]
    },
    {
      "cell_type": "markdown",
      "source": [
        "E.  Hybrid Inheritance\n",
        "\n",
        "    Hybrid inheritance is a combination of two or more types of inheritance\n",
        "    (e.g., multiple and multilevel inheritance)."
      ],
      "metadata": {
        "id": "XDkTSov-TGz2"
      }
    },
    {
      "cell_type": "code",
      "source": [
        "class Animal:\n",
        "    def speak(self):\n",
        "        print(\"Animal speaks\")\n",
        "\n",
        "class Swimmer:\n",
        "    def swim(self):\n",
        "        print(\"Swimmer swims\")\n",
        "\n",
        "class Dog(Animal):\n",
        "    def bark(self):\n",
        "        print(\"Dog barks\")\n",
        "\n",
        "class Dolphin(Dog, Swimmer):\n",
        "    def jump(self):\n",
        "        print(\"Dolphin jumps\")\n",
        "\n",
        "dolphin = Dolphin()\n",
        "dolphin.speak()  # Inherited from Animal\n",
        "dolphin.bark()   # Inherited from Dog\n",
        "dolphin.swim()   # Inherited from Swimmer\n",
        "dolphin.jump()   # Defined in Dolphin\n"
      ],
      "metadata": {
        "colab": {
          "base_uri": "https://localhost:8080/"
        },
        "id": "4nOT6MbTTMem",
        "outputId": "1fcb29a8-72c3-48a5-daf6-f51181934055"
      },
      "execution_count": null,
      "outputs": [
        {
          "output_type": "stream",
          "name": "stdout",
          "text": [
            "Animal speaks\n",
            "Dog barks\n",
            "Swimmer swims\n",
            "Dolphin jumps\n"
          ]
        }
      ]
    },
    {
      "cell_type": "markdown",
      "source": [
        "7. What is the Method Resolution Order (MRO) in Python? How can you retrieve it programmatically?\n",
        "\n",
        "\n",
        "\n",
        "\n",
        "    The Method Resolution Order (MRO) in Python is the sequence in which a class and its parent classes are searched when calling a method or accessing an attribute.\n",
        "    \n",
        "    This order determines how Python resolves method and attribute references in the presence of inheritance, especially with multiple inheritance.\n",
        "\n",
        "    The MRO ensures consistency and avoids ambiguity in cases where multiple classes share methods or attributes with the same name. It follows the C3 Linearization algorithm, which:\n",
        "\n",
        "    a. Preserves the order of inheritance as defined in the class.\n",
        "\n",
        "    b. Ensures that a child class appears before its parent classes.\n",
        "\n",
        "    c. Resolves ambiguities in a predictable and deterministic manner.\n",
        "\n",
        "\n",
        "\n",
        "How to Retrieve MRO Programmatically\n",
        "\n",
        "    You can retrieve the MRO of a class in Python using:\n",
        "\n",
        "\n",
        "    a. the __mro__ attribute:"
      ],
      "metadata": {
        "id": "Fj1-6YiVTeLf"
      }
    },
    {
      "cell_type": "code",
      "source": [
        "class A:\n",
        "    pass\n",
        "\n",
        "class B(A):\n",
        "    pass\n",
        "\n",
        "class C:\n",
        "    pass\n",
        "\n",
        "class D(B, C):\n",
        "    pass\n",
        "\n",
        "print(D.__mro__)\n",
        "\n"
      ],
      "metadata": {
        "colab": {
          "base_uri": "https://localhost:8080/"
        },
        "id": "411AWaC1478-",
        "outputId": "f3868036-532a-4e2d-e2ca-41dc9d9a6fb5"
      },
      "execution_count": null,
      "outputs": [
        {
          "output_type": "stream",
          "name": "stdout",
          "text": [
            "(<class '__main__.D'>, <class '__main__.B'>, <class '__main__.A'>, <class '__main__.C'>, <class 'object'>)\n"
          ]
        }
      ]
    },
    {
      "cell_type": "markdown",
      "source": [
        "b. The mro() method:"
      ],
      "metadata": {
        "id": "XJp1Xpmj5us9"
      }
    },
    {
      "cell_type": "code",
      "source": [
        "class A:\n",
        "    pass\n",
        "\n",
        "class B(A):\n",
        "    pass\n",
        "\n",
        "class C:\n",
        "    pass\n",
        "\n",
        "class D(B, C):\n",
        "    pass\n",
        "\n",
        "print(D.mro())\n"
      ],
      "metadata": {
        "colab": {
          "base_uri": "https://localhost:8080/"
        },
        "id": "osAkLmM65y_i",
        "outputId": "203b40db-dee9-4038-acda-da2909b3b60d"
      },
      "execution_count": null,
      "outputs": [
        {
          "output_type": "stream",
          "name": "stdout",
          "text": [
            "[<class '__main__.D'>, <class '__main__.B'>, <class '__main__.A'>, <class '__main__.C'>, <class 'object'>]\n"
          ]
        }
      ]
    },
    {
      "cell_type": "markdown",
      "source": [
        "c. Using help() function: You can use the help() function to see the MRO along with other details about a class:"
      ],
      "metadata": {
        "id": "uzdGmPU5566s"
      }
    },
    {
      "cell_type": "markdown",
      "source": [],
      "metadata": {
        "id": "DCBLz5puNx1G"
      }
    },
    {
      "cell_type": "code",
      "source": [
        "class A:\n",
        "    pass\n",
        "\n",
        "class B(A):\n",
        "    pass\n",
        "\n",
        "class C:\n",
        "    pass\n",
        "\n",
        "class D(B, C):\n",
        "    pass\n",
        "\n",
        "help(D)\n"
      ],
      "metadata": {
        "colab": {
          "base_uri": "https://localhost:8080/"
        },
        "id": "WMYIX9V96SJP",
        "outputId": "8d723a8b-16ed-4476-a0ed-72669492115a"
      },
      "execution_count": null,
      "outputs": [
        {
          "output_type": "stream",
          "name": "stdout",
          "text": [
            "Help on class D in module __main__:\n",
            "\n",
            "class D(B, C)\n",
            " |  Method resolution order:\n",
            " |      D\n",
            " |      B\n",
            " |      A\n",
            " |      C\n",
            " |      builtins.object\n",
            " |  \n",
            " |  Data descriptors inherited from A:\n",
            " |  \n",
            " |  __dict__\n",
            " |      dictionary for instance variables (if defined)\n",
            " |  \n",
            " |  __weakref__\n",
            " |      list of weak references to the object (if defined)\n",
            "\n"
          ]
        }
      ]
    },
    {
      "cell_type": "markdown",
      "source": [
        "8.  Create an abstract base class `Shape` with an abstract method `area()`. Then create two subclasses\n",
        "`Circle` and `Rectangle` that implement the `area()` method.\n",
        "\n",
        "\n",
        "\n"
      ],
      "metadata": {
        "id": "YeI8L0dF6fVb"
      }
    },
    {
      "cell_type": "code",
      "source": [
        "#Here is an example implementation in Python using the abc module to create an abstract base class\n",
        "from abc import ABC, abstractmethod\n",
        "import math\n",
        "\n",
        "# Abstract base class\n",
        "class Shape(ABC):\n",
        "    @abstractmethod\n",
        "    def area(self):\n",
        "        \"\"\"Calculate the area of the shape.\"\"\"\n",
        "        pass\n",
        "\n",
        "# Subclass for Circle\n",
        "class Circle(Shape):\n",
        "    def __init__(self, radius):\n",
        "        self.radius = radius\n",
        "\n",
        "    def area(self):\n",
        "        return math.pi * self.radius ** 2\n",
        "\n",
        "# Subclass for Rectangle\n",
        "class Rectangle(Shape):\n",
        "    def __init__(self, width, height):\n",
        "        self.width = width\n",
        "        self.height = height\n",
        "\n",
        "    def area(self):\n",
        "        return self.width * self.height\n",
        "\n",
        "# Example usage\n",
        "if __name__ == \"__main__\":\n",
        "    circle = Circle(5)\n",
        "    print(f\"Area of the circle: {circle.area()}\")\n",
        "\n",
        "    rectangle = Rectangle(4, 7)\n",
        "    print(f\"Area of the rectangle: {rectangle.area()}\")\n"
      ],
      "metadata": {
        "colab": {
          "base_uri": "https://localhost:8080/"
        },
        "id": "E2FV97Z56S3c",
        "outputId": "64ac54a9-32c3-4f5f-b589-a606c3538197"
      },
      "execution_count": null,
      "outputs": [
        {
          "output_type": "stream",
          "name": "stdout",
          "text": [
            "Area of the circle: 78.53981633974483\n",
            "Area of the rectangle: 28\n"
          ]
        }
      ]
    },
    {
      "cell_type": "markdown",
      "source": [
        "9.  Demonstrate polymorphism by creating a function that can work with different shape objects to calculate\n",
        "and print their areas.\n",
        "\n",
        "\n",
        "\n",
        "\n",
        "    Here’s an example of demonstrating polymorphism in Python.\n",
        "\n",
        "    We define a base class Shape with a method area, and then derive different classes like Rectangle, Circle, and Triangle.\n",
        "\n",
        "    Each derived class implements its own version of the area method.\n",
        "    \n",
        "    Finally, we create a function that calculates the area of any shape passed to it."
      ],
      "metadata": {
        "id": "plP0ddqn68Tt"
      }
    },
    {
      "cell_type": "code",
      "source": [
        "import math\n",
        "\n",
        "# Base class\n",
        "class Shape:\n",
        "    def area(self):\n",
        "        raise NotImplementedError(\"Subclasses must implement the area method\")\n",
        "\n",
        "# Derived class for Rectangle\n",
        "class Rectangle(Shape):\n",
        "    def __init__(self, width, height):\n",
        "        self.width = width\n",
        "        self.height = height\n",
        "\n",
        "    def area(self):\n",
        "        return self.width * self.height\n",
        "\n",
        "# Derived class for Circle\n",
        "class Circle(Shape):\n",
        "    def __init__(self, radius):\n",
        "        self.radius = radius\n",
        "\n",
        "    def area(self):\n",
        "        return math.pi * self.radius ** 2\n",
        "\n",
        "# Derived class for Triangle\n",
        "class Triangle(Shape):\n",
        "    def __init__(self, base, height):\n",
        "        self.base = base\n",
        "        self.height = height\n",
        "\n",
        "    def area(self):\n",
        "        return 0.5 * self.base * self.height\n",
        "\n",
        "# Function to calculate and print the area of any shape\n",
        "def print_area(shape):\n",
        "    if isinstance(shape, Shape):\n",
        "        print(f\"The area of the {shape.__class__.__name__} is: {shape.area():.2f}\")\n",
        "    else:\n",
        "        print(\"The object is not a valid shape.\")\n",
        "\n",
        "# Create objects of different shapes\n",
        "rectangle = Rectangle(5, 10)\n",
        "circle = Circle(7)\n",
        "triangle = Triangle(6, 8)\n",
        "\n",
        "# Call the function with different shapes\n",
        "print_area(rectangle)\n",
        "print_area(circle)\n",
        "print_area(triangle)\n"
      ],
      "metadata": {
        "colab": {
          "base_uri": "https://localhost:8080/"
        },
        "id": "q8YUo47f6vEV",
        "outputId": "46b825d8-db92-4367-c669-854178802b71"
      },
      "execution_count": null,
      "outputs": [
        {
          "output_type": "stream",
          "name": "stdout",
          "text": [
            "The area of the Rectangle is: 50.00\n",
            "The area of the Circle is: 153.94\n",
            "The area of the Triangle is: 24.00\n"
          ]
        }
      ]
    },
    {
      "cell_type": "markdown",
      "source": [
        "10.  Implement encapsulation in a `BankAccount` class with private attributes for `balance` and\n",
        "`account_number`. Include methods for deposit, withdrawal, and balance inquiry.\n",
        "\n",
        "\n",
        "\n"
      ],
      "metadata": {
        "id": "8KBHWRmHEEt0"
      }
    },
    {
      "cell_type": "code",
      "source": [
        "class BankAccount:\n",
        "    def __init__(self, account_number, initial_balance=0):\n",
        "        self.__account_number = account_number  # Private attribute\n",
        "        self.__balance = initial_balance        # Private attribute\n",
        "\n",
        "    def deposit(self, amount):\n",
        "        \"\"\"Add money to the account.\"\"\"\n",
        "        if amount > 0:\n",
        "            self.__balance += amount\n",
        "\n",
        "    def withdraw(self, amount):\n",
        "        \"\"\"Withdraw money if sufficient balance exists.\"\"\"\n",
        "        if 0 < amount <= self.__balance:\n",
        "            self.__balance -= amount\n",
        "\n",
        "    def get_balance(self):\n",
        "        \"\"\"Return the current balance.\"\"\"\n",
        "        return self.__balance\n",
        "\n",
        "# Example usage\n",
        "account = BankAccount(\"123456789\", 100)\n",
        "account.deposit(50)    # Add 50\n",
        "account.withdraw(30)   # Subtract 30\n",
        "print(account.get_balance())  # Output: 120\n"
      ],
      "metadata": {
        "colab": {
          "base_uri": "https://localhost:8080/"
        },
        "id": "ZSloAdQGESUE",
        "outputId": "8b6ce98f-7a1c-4cbf-f3da-11dbdc305e5b"
      },
      "execution_count": null,
      "outputs": [
        {
          "output_type": "stream",
          "name": "stdout",
          "text": [
            "120\n"
          ]
        }
      ]
    },
    {
      "cell_type": "markdown",
      "source": [
        "11. . Write a class that overrides the `__str__` and `__add__` magic methods. What will these methods allow\n",
        "you to do?\n",
        "\n",
        "\n",
        "\n",
        "\n",
        "    When you override the __str__ and __add__ magic methods in a class, you give instances of the class custom behavior for string representation and addition, respectively:\n",
        "\n",
        "\n",
        "\n",
        "    __str__:\n",
        "\n",
        "        Allows you to define how an instance of the class should be converted to a string.\n",
        "\n",
        "        This method is called when you use the str() function or print the object.\n",
        "\n",
        "        Typically used to provide a user-friendly representation of the object.\n",
        "\n",
        "    __add__:\n",
        "        Allows you to define the behavior of the + operator when used between instances of your class (or between your class and compatible types).\n",
        "\n",
        "        This is particularly useful for custom data structures like vectors, matrices, or other domain-specific entities where addition has a clear, meaningful implementation."
      ],
      "metadata": {
        "id": "g0zkSe-VmNMN"
      }
    },
    {
      "cell_type": "code",
      "source": [
        "class CustomClass:\n",
        "    def __init__(self, value):\n",
        "        self.value = value\n",
        "\n",
        "    def __str__(self):\n",
        "        # Defines how the object is represented as a string\n",
        "        return f\"CustomClass(value={self.value})\"\n",
        "\n",
        "    def __add__(self, other):\n",
        "        # Defines the behavior of the + operator\n",
        "        if isinstance(other, CustomClass):\n",
        "            return CustomClass(self.value + other.value)\n",
        "        return NotImplemented\n",
        "\n",
        "# Example usage\n",
        "obj1 = CustomClass(10)\n",
        "obj2 = CustomClass(20)\n",
        "\n",
        "print(obj1)           # Output: CustomClass(value=10)\n",
        "result = obj1 + obj2  # Calls __add__\n",
        "print(result)         # Output: CustomClass(value=30)\n"
      ],
      "metadata": {
        "colab": {
          "base_uri": "https://localhost:8080/"
        },
        "id": "96FdlhNTEoAc",
        "outputId": "ba4604d7-b4c3-4a7b-90a3-c2bc8c30f4f6"
      },
      "execution_count": null,
      "outputs": [
        {
          "output_type": "stream",
          "name": "stdout",
          "text": [
            "CustomClass(value=10)\n",
            "CustomClass(value=30)\n"
          ]
        }
      ]
    },
    {
      "cell_type": "markdown",
      "source": [
        "12.  Create a decorator that measures and prints the execution time of a function."
      ],
      "metadata": {
        "id": "cP14OOolnALA"
      }
    },
    {
      "cell_type": "code",
      "source": [
        "import time\n",
        "\n",
        "def measure_execution_time(func):\n",
        "    \"\"\"\n",
        "    A decorator that measures and prints the execution time of the decorated function.\n",
        "    \"\"\"\n",
        "    def wrapper(*args, **kwargs):\n",
        "        start_time = time.time()  # Record start time\n",
        "        result = func(*args, **kwargs)  # Call the decorated function\n",
        "        end_time = time.time()  # Record end time\n",
        "        execution_time = end_time - start_time  # Calculate execution time\n",
        "        print(f\"Execution time of {func.__name__}: {execution_time:.4f} seconds\")\n",
        "        return result  # Return the result of the decorated function\n",
        "    return wrapper\n",
        "\n",
        "# Example usage:\n",
        "@measure_execution_time\n",
        "def example_function():\n",
        "    time.sleep(2)  # Simulate a function that takes some time to execute\n",
        "    print(\"Function executed\")\n",
        "\n",
        "example_function()\n"
      ],
      "metadata": {
        "colab": {
          "base_uri": "https://localhost:8080/"
        },
        "id": "u6pFicDMmv2E",
        "outputId": "cd329876-5c32-4741-b769-f5b1b718b2de"
      },
      "execution_count": null,
      "outputs": [
        {
          "output_type": "stream",
          "name": "stdout",
          "text": [
            "Function executed\n",
            "Execution time of example_function: 2.0086 seconds\n"
          ]
        }
      ]
    },
    {
      "cell_type": "markdown",
      "source": [
        "13.  Explain the concept of the Diamond Problem in multiple inheritance. How does Python resolve it?\n",
        "\n",
        "\n",
        "    The Diamond Problem is a common issue in multiple inheritance where a class is derived from two or more classes that share a common ancestor.\n",
        "    \n",
        "    The name \"diamond problem\" comes from the shape of the inheritance diagram when this situation occurs.\n",
        "\n",
        "The Problem\n",
        "\n",
        "Consider the following scenario:\n",
        "\n",
        "    a. Class A is the base class.\n",
        "\n",
        "    b. Classes B and C inherit from A.\n",
        "\n",
        "    c. Class D inherits from both B and C.   \n",
        "\n",
        "\n",
        "\n",
        "\n"
      ],
      "metadata": {
        "id": "7UUiPpkYMFXd"
      }
    },
    {
      "cell_type": "code",
      "source": [
        "    A\n",
        "   / \\\n",
        "  B   C\n",
        "   \\ /\n",
        "    D\n"
      ],
      "metadata": {
        "id": "liX8P3V_NN3g"
      },
      "execution_count": null,
      "outputs": []
    },
    {
      "cell_type": "markdown",
      "source": [
        "\n",
        "If class D tries to access a method or attribute that is defined in A, it is unclear which path to follow:\n",
        "\n",
        "    From D → B → A, or\n",
        "    From D → C → A.\n",
        "\n",
        "This ambiguity in resolving the method or attribute lookup is the core of the diamond problem."
      ],
      "metadata": {
        "id": "JDAa5u0DNMTy"
      }
    },
    {
      "cell_type": "markdown",
      "source": [
        "\n",
        "Python's Resolution: Method Resolution Order (MRO)\n",
        "\n",
        "    Python resolves the diamond problem using the C3 Linearization Algorithm, which determines the Method Resolution Order (MRO).\n",
        "\n",
        "    The MRO is a linear ordering of classes to ensure a consistent and predictable lookup path.\n",
        "\n",
        "    1. Algorithm: The C3 algorithm ensures that:\n",
        "\n",
        "        A class appears before its parents in the MRO.\n",
        "\n",
        "        The order of the parents in the MRO respects the order in which they are listed in the class definition.\n",
        "\n",
        "        A consistent, single linear order is established for method resolution."
      ],
      "metadata": {
        "id": "V1aWGotFNfS2"
      }
    },
    {
      "cell_type": "markdown",
      "source": [
        "2. MRO in Action: For the example above, Python determines the MRO for class D as:"
      ],
      "metadata": {
        "id": "1OVf4cBQN1Zm"
      }
    },
    {
      "cell_type": "code",
      "source": [
        "D → B → C → A\n",
        "#Here, B is checked before C because it appears first in the definition of D."
      ],
      "metadata": {
        "id": "LAiT6vSJNe6V"
      },
      "execution_count": null,
      "outputs": []
    },
    {
      "cell_type": "markdown",
      "source": [
        "3. Implementation in Python: The MRO can be inspected using the __mro__ attribute or the mro() method:"
      ],
      "metadata": {
        "id": "-iVAKT-HN6n8"
      }
    },
    {
      "cell_type": "code",
      "source": [
        "class A:\n",
        "    def method(self):\n",
        "        print(\"A\")\n",
        "\n",
        "class B(A):\n",
        "    def method(self):\n",
        "        print(\"B\")\n",
        "\n",
        "class C(A):\n",
        "    def method(self):\n",
        "        print(\"C\")\n",
        "\n",
        "class D(B, C):\n",
        "    pass\n",
        "\n",
        "print(D.mro())\n"
      ],
      "metadata": {
        "colab": {
          "base_uri": "https://localhost:8080/"
        },
        "id": "naf1yEteM9bw",
        "outputId": "29f59a1e-b375-405f-b929-52f422d8fb3d"
      },
      "execution_count": 2,
      "outputs": [
        {
          "output_type": "stream",
          "name": "stdout",
          "text": [
            "[<class '__main__.D'>, <class '__main__.B'>, <class '__main__.C'>, <class '__main__.A'>, <class 'object'>]\n"
          ]
        }
      ]
    },
    {
      "cell_type": "markdown",
      "source": [
        "14.  Write a class method that keeps track of the number of instances created from a class."
      ],
      "metadata": {
        "id": "GWHihWSiOk1T"
      }
    },
    {
      "cell_type": "code",
      "source": [
        "class Counter:\n",
        "    instance_count = 0  # Class variable to track instances\n",
        "\n",
        "    def __init__(self):\n",
        "        Counter.instance_count += 1  # Increment count when an instance is created\n",
        "\n",
        "    @classmethod\n",
        "    def get_count(cls):\n",
        "        return cls.instance_count  # Return the count\n",
        "\n",
        "# Example usage\n",
        "a = Counter()\n",
        "b = Counter()\n",
        "c = Counter()\n",
        "\n",
        "print(Counter.get_count())  # Output: 3\n"
      ],
      "metadata": {
        "colab": {
          "base_uri": "https://localhost:8080/"
        },
        "id": "pRZkHeQEOmyN",
        "outputId": "a1045622-fbfc-4d77-efb3-b275111c14af"
      },
      "execution_count": 4,
      "outputs": [
        {
          "output_type": "stream",
          "name": "stdout",
          "text": [
            "3\n"
          ]
        }
      ]
    },
    {
      "cell_type": "markdown",
      "source": [
        "15.  Implement a static method in a class that checks if a given year is a leap year."
      ],
      "metadata": {
        "id": "SuB4n0R0P_Ld"
      }
    },
    {
      "cell_type": "code",
      "source": [
        "class YearUtils:\n",
        "    @staticmethod\n",
        "    def is_leap_year(year):\n",
        "        \"\"\"\n",
        "        Check if the given year is a leap year.\n",
        "\n",
        "        A year is a leap year if:\n",
        "        - It is divisible by 4, and\n",
        "        - It is not divisible by 100, unless\n",
        "        - It is divisible by 400.\n",
        "\n",
        "        :param year: The year to check (int)\n",
        "        :return: True if the year is a leap year, False otherwise\n",
        "        \"\"\"\n",
        "        if year % 4 == 0:\n",
        "            if year % 100 == 0:\n",
        "                if year % 400 == 0:\n",
        "                    return True\n",
        "                return False\n",
        "            return True\n",
        "        return False\n",
        "\n",
        "# Example usage:\n",
        "print(YearUtils.is_leap_year(2024))  # True\n",
        "print(YearUtils.is_leap_year(1900))  # False\n",
        "print(YearUtils.is_leap_year(2000))  # True\n"
      ],
      "metadata": {
        "colab": {
          "base_uri": "https://localhost:8080/"
        },
        "id": "tQbqe1OvQE9_",
        "outputId": "323d4b46-96c6-4749-bc7a-2c80624bc850"
      },
      "execution_count": 5,
      "outputs": [
        {
          "output_type": "stream",
          "name": "stdout",
          "text": [
            "True\n",
            "False\n",
            "True\n"
          ]
        }
      ]
    },
    {
      "cell_type": "markdown",
      "source": [],
      "metadata": {
        "id": "HB9obgk5M8nS"
      }
    }
  ]
}